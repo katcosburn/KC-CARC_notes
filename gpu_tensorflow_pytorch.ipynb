{
 "metadata": {
  "language_info": {
   "codemirror_mode": {
    "name": "ipython",
    "version": 3
   },
   "file_extension": ".py",
   "mimetype": "text/x-python",
   "name": "python",
   "nbconvert_exporter": "python",
   "pygments_lexer": "ipython3",
   "version": "3.7.7-final"
  },
  "orig_nbformat": 2,
  "kernelspec": {
   "name": "python3",
   "display_name": "Python 3",
   "language": "python"
  }
 },
 "nbformat": 4,
 "nbformat_minor": 2,
 "cells": [
  {
   "source": [
    "# Running PyTorch vs TensorFlow on GPUs"
   ],
   "cell_type": "markdown",
   "metadata": {}
  },
  {
   "cell_type": "code",
   "execution_count": 3,
   "metadata": {},
   "outputs": [],
   "source": [
    "import numpy as np \n",
    "import tensorflow as tf \n",
    "import torch\n",
    "import time"
   ]
  },
  {
   "source": [
    "## Summary for TensorFlow\n",
    "\n",
    "If a TensorFlow operation has both CPU and GPU implementation, the GPU devices will be given priority, unless specified otherwise. \n",
    "\n",
    "e.g., on a system with devices `cpu:0` and `gpu:0`, `gpu:0` will automatically be selected to run `matmul`.\n",
    "\n",
    "Below are three examples:\n",
    "\n",
    "1. Generate matrices *and* run `matmul` all on the CPU.\n",
    "\n",
    "2. Run `matmul` on a single GPU, but with matrix generation done on CPU (ie. with numpy). Note that this is not recommended, as the overhead to send data to the GPU to be processed at each iteration does not provide any speedup from the case where everything is run on the CPU.\n",
    "\n",
    "3. Generate tensors that are automatically assigned to the GPU memory (ie. the default for TensorFlow) and then run `matmul` on these tensors. In this case everything will be done on the GPU and speedup will be considerable.\n"
   ],
   "cell_type": "markdown",
   "metadata": {}
  },
  {
   "cell_type": "code",
   "execution_count": 41,
   "metadata": {},
   "outputs": [
    {
     "output_type": "stream",
     "name": "stdout",
     "text": [
      "Time Elapsed: 0.8255360126495361 s\n\n"
     ]
    }
   ],
   "source": [
    "# Example 1 (everything done on CPU)\n",
    "\n",
    "N = 100\n",
    "ntimes = 1000\n",
    "tstart = time.time()\n",
    "\n",
    "for _ in range(ntimes):\n",
    "    a = np.random.randn(N,N)\n",
    "    b = np.random.randn(N,N)\n",
    "    with tf.device('/cpu:0'):\n",
    "        c = tf.matmul(a,b)\n",
    "\n",
    "tend = time.time()\n",
    "print('Time Elapsed: {} s\\n'.format(tend-tstart))\n"
   ]
  },
  {
   "cell_type": "code",
   "execution_count": 42,
   "metadata": {},
   "outputs": [
    {
     "output_type": "stream",
     "name": "stdout",
     "text": [
      "Time Elapsed: 0.8029618263244629 s\n\n"
     ]
    }
   ],
   "source": [
    "# Example 2 (matrices generated on CPU, multiplication done on GPU)\n",
    "\n",
    "N = 100\n",
    "ntimes = 1000\n",
    "tstart = time.time()\n",
    "\n",
    "for _ in range(ntimes):\n",
    "    a = np.random.randn(N,N)\n",
    "    b = np.random.randn(N,N)\n",
    "    c = tf.matmul(a,b)\n",
    "\n",
    "tend = time.time()\n",
    "print('Time Elapsed: {} s\\n'.format(tend-tstart))\n"
   ]
  },
  {
   "cell_type": "code",
   "execution_count": 43,
   "metadata": {},
   "outputs": [
    {
     "output_type": "stream",
     "name": "stdout",
     "text": [
      "Time Elapsed: 0.35160183906555176 s\n\n"
     ]
    }
   ],
   "source": [
    "# Example 3 (everything done on GPU)\n",
    "\n",
    "N = 100\n",
    "ntimes = 1000\n",
    "tstart = time.time()\n",
    "\n",
    "for _ in range(ntimes):\n",
    "    a = tf.random.normal([N,N])\n",
    "    b = tf.random.normal([N,N])\n",
    "    c = tf.matmul(a,b)\n",
    "\n",
    "tend = time.time()\n",
    "print('Time Elapsed: {} s\\n'.format(tend-tstart))\n"
   ]
  },
  {
   "source": [
    "## Summary for PyTorch\n",
    "\n",
    "To utilise the GPU implementation, you must first manually allocate tensors in GPU memory (unlike TensorFlow, PyTorch does not do this automatically). Afterwards, when you perform operations on those tensors, e.g. `matmul`, they will be run on the GPU.\n",
    "\n",
    "To allocate tensors in GPU memory, you must make them of a `torch.cuda` tensor type."
   ],
   "cell_type": "markdown",
   "metadata": {}
  },
  {
   "cell_type": "code",
   "execution_count": 44,
   "metadata": {},
   "outputs": [
    {
     "output_type": "stream",
     "name": "stdout",
     "text": [
      "Time Elapsed: 0.6669421195983887 s\n\n"
     ]
    }
   ],
   "source": [
    "# Example 1 (everything done on CPU)\n",
    "\n",
    "N = 100\n",
    "ntimes = 1000\n",
    "tstart = time.time()\n",
    "\n",
    "for _ in range(ntimes):\n",
    "    a = np.random.randn(N,N)\n",
    "    b = np.random.randn(N,N)\n",
    "    c = torch.matmul(torch.from_numpy(a), torch.from_numpy(b))\n",
    "\n",
    "tend = time.time()\n",
    "print('Time Elapsed: {} s\\n'.format(tend-tstart))\n"
   ]
  },
  {
   "cell_type": "code",
   "execution_count": 39,
   "metadata": {},
   "outputs": [
    {
     "output_type": "error",
     "ename": "AssertionError",
     "evalue": "Torch not compiled with CUDA enabled",
     "traceback": [
      "\u001b[0;31m---------------------------------------------------------------------------\u001b[0m",
      "\u001b[0;31mAssertionError\u001b[0m                            Traceback (most recent call last)",
      "\u001b[0;32m<ipython-input-39-cf9f3bafb2ab>\u001b[0m in \u001b[0;36m<module>\u001b[0;34m\u001b[0m\n\u001b[1;32m      6\u001b[0m \u001b[0;34m\u001b[0m\u001b[0m\n\u001b[1;32m      7\u001b[0m \u001b[0;32mfor\u001b[0m \u001b[0m_\u001b[0m \u001b[0;32min\u001b[0m \u001b[0mrange\u001b[0m\u001b[0;34m(\u001b[0m\u001b[0mntimes\u001b[0m\u001b[0;34m)\u001b[0m\u001b[0;34m:\u001b[0m\u001b[0;34m\u001b[0m\u001b[0;34m\u001b[0m\u001b[0m\n\u001b[0;32m----> 8\u001b[0;31m     \u001b[0ma\u001b[0m \u001b[0;34m=\u001b[0m \u001b[0mtorch\u001b[0m\u001b[0;34m.\u001b[0m\u001b[0mrandn\u001b[0m\u001b[0;34m(\u001b[0m\u001b[0mN\u001b[0m\u001b[0;34m,\u001b[0m\u001b[0mN\u001b[0m\u001b[0;34m,\u001b[0m \u001b[0mdevice\u001b[0m\u001b[0;34m=\u001b[0m\u001b[0;34m'cuda:0'\u001b[0m\u001b[0;34m)\u001b[0m\u001b[0;34m\u001b[0m\u001b[0;34m\u001b[0m\u001b[0m\n\u001b[0m\u001b[1;32m      9\u001b[0m     \u001b[0mb\u001b[0m \u001b[0;34m=\u001b[0m \u001b[0mtorch\u001b[0m\u001b[0;34m.\u001b[0m\u001b[0mrandn\u001b[0m\u001b[0;34m(\u001b[0m\u001b[0mN\u001b[0m\u001b[0;34m,\u001b[0m\u001b[0mN\u001b[0m\u001b[0;34m,\u001b[0m \u001b[0mdevice\u001b[0m\u001b[0;34m=\u001b[0m\u001b[0;34m'cuda:0'\u001b[0m\u001b[0;34m)\u001b[0m\u001b[0;34m\u001b[0m\u001b[0;34m\u001b[0m\u001b[0m\n\u001b[1;32m     10\u001b[0m     \u001b[0mc\u001b[0m \u001b[0;34m=\u001b[0m \u001b[0mtorch\u001b[0m\u001b[0;34m.\u001b[0m\u001b[0mmatmul\u001b[0m\u001b[0;34m(\u001b[0m\u001b[0ma\u001b[0m\u001b[0;34m,\u001b[0m\u001b[0mb\u001b[0m\u001b[0;34m)\u001b[0m\u001b[0;34m\u001b[0m\u001b[0;34m\u001b[0m\u001b[0m\n",
      "\u001b[0;32m~/anaconda3/lib/python3.7/site-packages/torch/cuda/__init__.py\u001b[0m in \u001b[0;36m_lazy_init\u001b[0;34m()\u001b[0m\n\u001b[1;32m    184\u001b[0m             raise RuntimeError(\n\u001b[1;32m    185\u001b[0m                 \"Cannot re-initialize CUDA in forked subprocess. \" + msg)\n\u001b[0;32m--> 186\u001b[0;31m         \u001b[0m_check_driver\u001b[0m\u001b[0;34m(\u001b[0m\u001b[0;34m)\u001b[0m\u001b[0;34m\u001b[0m\u001b[0;34m\u001b[0m\u001b[0m\n\u001b[0m\u001b[1;32m    187\u001b[0m         \u001b[0;32mif\u001b[0m \u001b[0m_cudart\u001b[0m \u001b[0;32mis\u001b[0m \u001b[0;32mNone\u001b[0m\u001b[0;34m:\u001b[0m\u001b[0;34m\u001b[0m\u001b[0;34m\u001b[0m\u001b[0m\n\u001b[1;32m    188\u001b[0m             raise AssertionError(\n",
      "\u001b[0;32m~/anaconda3/lib/python3.7/site-packages/torch/cuda/__init__.py\u001b[0m in \u001b[0;36m_check_driver\u001b[0;34m()\u001b[0m\n\u001b[1;32m     59\u001b[0m \u001b[0;32mdef\u001b[0m \u001b[0m_check_driver\u001b[0m\u001b[0;34m(\u001b[0m\u001b[0;34m)\u001b[0m\u001b[0;34m:\u001b[0m\u001b[0;34m\u001b[0m\u001b[0;34m\u001b[0m\u001b[0m\n\u001b[1;32m     60\u001b[0m     \u001b[0;32mif\u001b[0m \u001b[0;32mnot\u001b[0m \u001b[0mhasattr\u001b[0m\u001b[0;34m(\u001b[0m\u001b[0mtorch\u001b[0m\u001b[0;34m.\u001b[0m\u001b[0m_C\u001b[0m\u001b[0;34m,\u001b[0m \u001b[0;34m'_cuda_isDriverSufficient'\u001b[0m\u001b[0;34m)\u001b[0m\u001b[0;34m:\u001b[0m\u001b[0;34m\u001b[0m\u001b[0;34m\u001b[0m\u001b[0m\n\u001b[0;32m---> 61\u001b[0;31m         \u001b[0;32mraise\u001b[0m \u001b[0mAssertionError\u001b[0m\u001b[0;34m(\u001b[0m\u001b[0;34m\"Torch not compiled with CUDA enabled\"\u001b[0m\u001b[0;34m)\u001b[0m\u001b[0;34m\u001b[0m\u001b[0;34m\u001b[0m\u001b[0m\n\u001b[0m\u001b[1;32m     62\u001b[0m     \u001b[0;32mif\u001b[0m \u001b[0;32mnot\u001b[0m \u001b[0mtorch\u001b[0m\u001b[0;34m.\u001b[0m\u001b[0m_C\u001b[0m\u001b[0;34m.\u001b[0m\u001b[0m_cuda_isDriverSufficient\u001b[0m\u001b[0;34m(\u001b[0m\u001b[0;34m)\u001b[0m\u001b[0;34m:\u001b[0m\u001b[0;34m\u001b[0m\u001b[0;34m\u001b[0m\u001b[0m\n\u001b[1;32m     63\u001b[0m         \u001b[0;32mif\u001b[0m \u001b[0mtorch\u001b[0m\u001b[0;34m.\u001b[0m\u001b[0m_C\u001b[0m\u001b[0;34m.\u001b[0m\u001b[0m_cuda_getDriverVersion\u001b[0m\u001b[0;34m(\u001b[0m\u001b[0;34m)\u001b[0m \u001b[0;34m==\u001b[0m \u001b[0;36m0\u001b[0m\u001b[0;34m:\u001b[0m\u001b[0;34m\u001b[0m\u001b[0;34m\u001b[0m\u001b[0m\n",
      "\u001b[0;31mAssertionError\u001b[0m: Torch not compiled with CUDA enabled"
     ]
    }
   ],
   "source": [
    "# Example 2 (everything done on GPU)\n",
    "\n",
    "N = 100\n",
    "ntimes = 1000\n",
    "tstart = time.time()\n",
    "\n",
    "for _ in range(ntimes):\n",
    "    a = torch.randn(N,N, device='cuda:0')\n",
    "    b = torch.randn(N,N, device='cuda:0')\n",
    "    c = torch.matmul(a,b)\n",
    "\n",
    "tend = time.time()\n",
    "print('Time Elapsed: {} s\\n'.format(tend-tstart))"
   ]
  },
  {
   "cell_type": "code",
   "execution_count": null,
   "metadata": {},
   "outputs": [],
   "source": []
  }
 ]
}